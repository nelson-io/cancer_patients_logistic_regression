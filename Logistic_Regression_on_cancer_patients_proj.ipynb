{
  "nbformat": 4,
  "nbformat_minor": 0,
  "metadata": {
    "colab": {
      "name": "Logistic Regression on cancer patients proj",
      "provenance": []
    },
    "kernelspec": {
      "name": "python3",
      "display_name": "Python 3"
    }
  },
  "cells": [
    {
      "cell_type": "markdown",
      "metadata": {
        "id": "Q8X8xDwS6vgS",
        "colab_type": "text"
      },
      "source": [
        "# Logistic Regression"
      ]
    },
    {
      "cell_type": "markdown",
      "metadata": {
        "id": "PEGG4I6n60cM",
        "colab_type": "text"
      },
      "source": [
        "## Importing the libraries"
      ]
    },
    {
      "cell_type": "markdown",
      "metadata": {
        "id": "nTVGWqgpm3rT",
        "colab_type": "text"
      },
      "source": [
        ""
      ]
    },
    {
      "cell_type": "code",
      "metadata": {
        "id": "36VQEju5ieN8",
        "colab_type": "code",
        "colab": {}
      },
      "source": [
        "import pandas as pd\n",
        "import numpy as np\n",
        "import matplotlib.pyplot as plt"
      ],
      "execution_count": 34,
      "outputs": []
    },
    {
      "cell_type": "markdown",
      "metadata": {
        "id": "Aa536pRY7Eq5",
        "colab_type": "text"
      },
      "source": [
        "## Importing the dataset"
      ]
    },
    {
      "cell_type": "code",
      "metadata": {
        "id": "X9HWGDy0iurM",
        "colab_type": "code",
        "colab": {}
      },
      "source": [
        "dataset = pd.read_csv('breast-cancer-wisconsin.data',\n",
        "                      names=['a','b', 'c', 'd', 'e', 'f', 'g', 'h', 'i', 'j', 'k'])\n"
      ],
      "execution_count": 54,
      "outputs": []
    },
    {
      "cell_type": "code",
      "metadata": {
        "id": "ajMhEpQaCWJz",
        "colab_type": "code",
        "colab": {
          "base_uri": "https://localhost:8080/",
          "height": 204
        },
        "outputId": "3e87b0df-a57b-468a-a4a8-5508ca3654ea"
      },
      "source": [
        "\n",
        "#chequeamos tipos\n",
        "for i in dataset.columns:\n",
        "  print(i, dataset[i].dtype)\n"
      ],
      "execution_count": 56,
      "outputs": [
        {
          "output_type": "stream",
          "text": [
            "a int64\n",
            "b int64\n",
            "c int64\n",
            "d int64\n",
            "e int64\n",
            "f int64\n",
            "g object\n",
            "h int64\n",
            "i int64\n",
            "j int64\n",
            "k int64\n"
          ],
          "name": "stdout"
        }
      ]
    },
    {
      "cell_type": "code",
      "metadata": {
        "id": "R7gA8qMcCj6r",
        "colab_type": "code",
        "colab": {
          "base_uri": "https://localhost:8080/",
          "height": 34
        },
        "outputId": "f6a81926-ecc9-4c9b-a152-8574005d9e0c"
      },
      "source": [
        "#observamos g y cohercemos\n",
        "\n",
        "#print(dataset['g'].values)\n",
        "x=[]\n",
        "for i in range(0,len(dataset['g'].values)):\n",
        "  if dataset['g'].values[i].isnumeric() == False:\n",
        "    x.append(i)\n",
        "\n",
        "print(dataset['g'].values[x])\n",
        "\n",
        "\n",
        "#encontramos que el problema son los signos de interrogación, procedemos a removerlos dado que tenemos muchas obs\n",
        "\n"
      ],
      "execution_count": 78,
      "outputs": [
        {
          "output_type": "stream",
          "text": [
            "['?' '?' '?' '?' '?' '?' '?' '?' '?' '?' '?' '?' '?' '?' '?' '?']\n"
          ],
          "name": "stdout"
        }
      ]
    },
    {
      "cell_type": "code",
      "metadata": {
        "id": "KBhe0-x6F8ko",
        "colab_type": "code",
        "colab": {}
      },
      "source": [
        "dataset = pd.read_csv('breast-cancer-wisconsin.data',\n",
        "                      names=['a','b', 'c', 'd', 'e', 'f', 'g', 'h', 'i', 'j', 'k'], na_values = '?')"
      ],
      "execution_count": 100,
      "outputs": []
    },
    {
      "cell_type": "code",
      "metadata": {
        "id": "LV-jlwuRG1M5",
        "colab_type": "code",
        "colab": {}
      },
      "source": [
        "#imputasmos NAs\n",
        "from sklearn.impute import SimpleImputer\n",
        "imp_mean = SimpleImputer(missing_values=np.nan, strategy='mean')\n",
        "\n",
        "dataset = pd.DataFrame(imp_mean.fit_transform(dataset))"
      ],
      "execution_count": 101,
      "outputs": []
    },
    {
      "cell_type": "code",
      "metadata": {
        "id": "Xb-zGUDiCZB3",
        "colab_type": "code",
        "colab": {}
      },
      "source": [
        "\n",
        "X = dataset.iloc[:,1:-1].values\n",
        "y = dataset.iloc[:,-1].values"
      ],
      "execution_count": 102,
      "outputs": []
    },
    {
      "cell_type": "code",
      "metadata": {
        "id": "fJSoYl1sGUc-",
        "colab_type": "code",
        "colab": {
          "base_uri": "https://localhost:8080/",
          "height": 204
        },
        "outputId": "3073d7dd-4759-41f9-e6f1-74842d91e353"
      },
      "source": [
        "#volvemos a chequear tipos\n",
        "\n",
        "for i in dataset.columns:\n",
        "  print(i, dataset[i].dtype)\n"
      ],
      "execution_count": 104,
      "outputs": [
        {
          "output_type": "stream",
          "text": [
            "0 float64\n",
            "1 float64\n",
            "2 float64\n",
            "3 float64\n",
            "4 float64\n",
            "5 float64\n",
            "6 float64\n",
            "7 float64\n",
            "8 float64\n",
            "9 float64\n",
            "10 float64\n"
          ],
          "name": "stdout"
        }
      ]
    },
    {
      "cell_type": "markdown",
      "metadata": {
        "id": "0AnzJQCj7TLO",
        "colab_type": "text"
      },
      "source": [
        "## Splitting the dataset into the Training set and Test set"
      ]
    },
    {
      "cell_type": "code",
      "metadata": {
        "id": "xZFd8PXoj4cF",
        "colab_type": "code",
        "colab": {}
      },
      "source": [
        "from sklearn.model_selection import train_test_split\n",
        "X_train, X_test, y_train, y_test = train_test_split(X, y, test_size = 0.2, random_state = 0)"
      ],
      "execution_count": 105,
      "outputs": []
    },
    {
      "cell_type": "markdown",
      "metadata": {
        "id": "pS1Q-n_A7iZ_",
        "colab_type": "text"
      },
      "source": [
        "## Training the Logistic Regression model on the Training set"
      ]
    },
    {
      "cell_type": "code",
      "metadata": {
        "id": "TzxZZNtMj-Cj",
        "colab_type": "code",
        "colab": {
          "base_uri": "https://localhost:8080/",
          "height": 102
        },
        "outputId": "d4f4530f-d78a-4194-8d1f-a8ad5b14ac44"
      },
      "source": [
        "from sklearn.linear_model import LogisticRegression\n",
        "regressor = LogisticRegression(random_state=0)\n",
        "\n",
        "regressor.fit(X_train, y_train)\n",
        "\n",
        "\n"
      ],
      "execution_count": 115,
      "outputs": [
        {
          "output_type": "execute_result",
          "data": {
            "text/plain": [
              "LogisticRegression(C=1.0, class_weight=None, dual=False, fit_intercept=True,\n",
              "                   intercept_scaling=1, l1_ratio=None, max_iter=100,\n",
              "                   multi_class='auto', n_jobs=None, penalty='l2',\n",
              "                   random_state=0, solver='lbfgs', tol=0.0001, verbose=0,\n",
              "                   warm_start=False)"
            ]
          },
          "metadata": {
            "tags": []
          },
          "execution_count": 115
        }
      ]
    },
    {
      "cell_type": "markdown",
      "metadata": {
        "id": "4cgD7EnB8Dnd",
        "colab_type": "text"
      },
      "source": [
        "## Predicting the Test set results"
      ]
    },
    {
      "cell_type": "code",
      "metadata": {
        "id": "l7zfThsCIpGb",
        "colab_type": "code",
        "colab": {
          "base_uri": "https://localhost:8080/",
          "height": 119
        },
        "outputId": "b0acd094-ae7a-4e8e-8b3e-1840db843a04"
      },
      "source": [
        "y_pred = regressor.predict(X_test)\n",
        "print(y_pred)"
      ],
      "execution_count": 116,
      "outputs": [
        {
          "output_type": "stream",
          "text": [
            "[2. 2. 4. 2. 4. 2. 4. 2. 4. 4. 2. 2. 4. 4. 4. 2. 2. 4. 4. 2. 4. 4. 2. 2.\n",
            " 2. 4. 2. 2. 4. 4. 2. 2. 2. 2. 2. 2. 2. 4. 2. 2. 2. 2. 2. 2. 4. 4. 2. 4.\n",
            " 2. 4. 4. 2. 2. 4. 2. 2. 2. 2. 2. 2. 4. 2. 2. 4. 4. 4. 4. 2. 2. 4. 2. 2.\n",
            " 4. 4. 2. 2. 2. 2. 4. 2. 2. 2. 4. 2. 2. 2. 4. 2. 4. 4. 2. 2. 4. 4. 2. 2.\n",
            " 2. 4. 2. 4. 4. 2. 2. 2. 4. 2. 2. 2. 2. 2. 4. 4. 4. 2. 2. 2. 2. 2. 4. 4.\n",
            " 4. 4. 2. 4. 2. 2. 4. 4. 4. 4. 4. 2. 2. 4. 4. 2. 2. 4. 2. 2.]\n"
          ],
          "name": "stdout"
        }
      ]
    },
    {
      "cell_type": "markdown",
      "metadata": {
        "id": "26CHkZbs8Tu5",
        "colab_type": "text"
      },
      "source": [
        "## Making the Confusion Matrix"
      ]
    },
    {
      "cell_type": "code",
      "metadata": {
        "id": "7rul6j24I9q7",
        "colab_type": "code",
        "colab": {
          "base_uri": "https://localhost:8080/",
          "height": 51
        },
        "outputId": "f1b2d402-ba26-4703-c87f-baab3607925b"
      },
      "source": [
        "from sklearn.metrics import confusion_matrix, accuracy_score\n",
        "\n",
        "confusion_matrix(y_test, y_pred)\n"
      ],
      "execution_count": 117,
      "outputs": [
        {
          "output_type": "execute_result",
          "data": {
            "text/plain": [
              "array([[82,  3],\n",
              "       [ 1, 54]])"
            ]
          },
          "metadata": {
            "tags": []
          },
          "execution_count": 117
        }
      ]
    },
    {
      "cell_type": "markdown",
      "metadata": {
        "id": "kMErnLnu8hmb",
        "colab_type": "text"
      },
      "source": [
        "## Computing the accuracy with k-Fold Cross Validation"
      ]
    },
    {
      "cell_type": "code",
      "metadata": {
        "id": "Vf9xZLzmJXuk",
        "colab_type": "code",
        "colab": {
          "base_uri": "https://localhost:8080/",
          "height": 34
        },
        "outputId": "92fa6581-07f8-488e-c877-ec11958e1e40"
      },
      "source": [
        "#simple acc\n",
        "accuracy_score(y_test, y_pred)\n"
      ],
      "execution_count": 113,
      "outputs": [
        {
          "output_type": "execute_result",
          "data": {
            "text/plain": [
              "0.9714285714285714"
            ]
          },
          "metadata": {
            "tags": []
          },
          "execution_count": 113
        }
      ]
    },
    {
      "cell_type": "code",
      "metadata": {
        "id": "KgkA5U0PlLOK",
        "colab_type": "code",
        "colab": {
          "base_uri": "https://localhost:8080/",
          "height": 51
        },
        "outputId": "d09368ec-92a9-486d-e19e-be440fb9b550"
      },
      "source": [
        "from sklearn.model_selection import cross_val_score\n",
        "\n",
        "accuracies = cross_val_score(regressor, X_train, y_train, cv = 10)\n",
        "print('Mean Accuracy ', accuracies.mean())\n",
        "print('SD of Accuracy ', accuracies.std())\n",
        "\n",
        "\n",
        "\n"
      ],
      "execution_count": 121,
      "outputs": [
        {
          "output_type": "stream",
          "text": [
            "Mean Accuracy  0.9660389610389611\n",
            "SD of Accuracy  0.025795735493308724\n"
          ],
          "name": "stdout"
        }
      ]
    }
  ]
}